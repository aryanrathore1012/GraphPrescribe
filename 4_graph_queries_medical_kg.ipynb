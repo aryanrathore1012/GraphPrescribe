{
 "cells": [
  {
   "cell_type": "markdown",
   "id": "7eb565ab",
   "metadata": {},
   "source": [
    "# 4 Goal\n",
    "\n",
    "### using qraph aql and a medicine name find an alternative maedicine with a lower cost\n",
    "\n",
    "# By - Reva Bharara\n"
   ]
  },
  {
   "cell_type": "code",
   "execution_count": null,
   "id": "4e3bd826",
   "metadata": {},
   "outputs": [],
   "source": [
    "import pandas as pd \n",
    "import numpy as np\n",
    "import matplotlib.pyplot as plt\n",
    "from arango import ArangoClient"
   ]
  },
  {
   "cell_type": "code",
   "execution_count": 4,
   "id": "244de73e",
   "metadata": {},
   "outputs": [],
   "source": [
    "# creating the database connection\n",
    "client=ArangoClient(hosts=\"http://localhost:8529/\")\n",
    "med_db=client.db(name=\"drug_repurposing_3\" , username=\"root\", password=\"\")"
   ]
  },
  {
   "attachments": {},
   "cell_type": "markdown",
   "id": "c8190eec",
   "metadata": {},
   "source": [
    "# ==============================================================\n",
    "# Alternative Medicine queries\n",
    "# =============================================================="
   ]
  },
  {
   "cell_type": "code",
   "execution_count": 28,
   "id": "ebddbb9b",
   "metadata": {},
   "outputs": [],
   "source": [
    "# getting input medicine of which we need alternate medicine\n",
    "\n",
    "medicine_names = [\"Augmentin 625 Duo Tablet\", \"Aricep 5 Tablet\", \"Avil 25 Tablet\",\"Azithral 500 Tablet\",\"Aciloc 150 Tablet\",\"Ascoril LS Syrup\",\"Allegra 120mg Tablet\"]"
   ]
  },
  {
   "cell_type": "code",
   "execution_count": 39,
   "id": "6a1c5983",
   "metadata": {},
   "outputs": [
    {
     "name": "stdout",
     "output_type": "stream",
     "text": [
      "['Augmentin 625 Duo Tablet', 'Aricep 5 Tablet', 'Avil 25 Tablet', 'Azithral 500 Tablet', 'Aciloc 150 Tablet', 'Ascoril LS Syrup', 'Allegra 120mg Tablet']\n",
      "[452, 390, 347, 105, 94, 354, 46]\n"
     ]
    }
   ],
   "source": [
    "#getting the medicine id of the input medicine\n",
    "\n",
    "original_prices = []\n",
    "for med in medicine_names:\n",
    "    cursor=med_db.aql.execute(f'for med in Medicine filter med.name==\"{med}\" return med.MRP')\n",
    "    for price in cursor:\n",
    "        original_prices.append(price)\n",
    "\n",
    "print(medicine_names)\n",
    "print(original_prices)"
   ]
  },
  {
   "cell_type": "code",
   "execution_count": 41,
   "id": "8ee0fc4f",
   "metadata": {},
   "outputs": [
    {
     "data": {
      "text/plain": [
       "['Medicine/2157707',\n",
       " 'Medicine/2157709',\n",
       " 'Medicine/2157711',\n",
       " 'Medicine/2157713',\n",
       " 'Medicine/2157715',\n",
       " 'Medicine/2157717',\n",
       " 'Medicine/2157719']"
      ]
     },
     "execution_count": 41,
     "metadata": {},
     "output_type": "execute_result"
    }
   ],
   "source": [
    "ids = []\n",
    "for med in medicine_names:\n",
    "    cursor=med_db.aql.execute(f'for med in Medicine filter med.name==\"{med}\" return med._id')\n",
    "    for id in cursor:\n",
    "        ids.append(id)\n",
    "\n",
    "ids"
   ]
  },
  {
   "cell_type": "code",
   "execution_count": 7,
   "id": "e2c2fcfa",
   "metadata": {},
   "outputs": [],
   "source": [
    "medicine_id=str\n",
    "for med_id in cursor:\n",
    "    medicine_id=med_id"
   ]
  },
  {
   "cell_type": "code",
   "execution_count": 42,
   "id": "3a8dc92d",
   "metadata": {},
   "outputs": [
    {
     "data": {
      "text/plain": [
       "['Medicine/2157707',\n",
       " 'Medicine/2157709',\n",
       " 'Medicine/2157711',\n",
       " 'Medicine/2157713',\n",
       " 'Medicine/2157715',\n",
       " 'Medicine/2157717',\n",
       " 'Medicine/2157719']"
      ]
     },
     "execution_count": 42,
     "metadata": {},
     "output_type": "execute_result"
    }
   ],
   "source": [
    "ids"
   ]
  },
  {
   "cell_type": "code",
   "execution_count": null,
   "id": "a6eff3c8",
   "metadata": {},
   "outputs": [],
   "source": [
    "# getting the chemical composition of the input medicine and representing it in a dataframe\n",
    "cursor=med_db.aql.execute(f'for v,e in 1..1 outbound \"{medicine_id}\" graph medical_kg filter IS_SAME_COLLECTION(\"has_chemical\",e) return {{\"chemical\":v._id, \"concentration\": e.weight}}')\n",
    "med_composition=pd.DataFrame(cursor)"
   ]
  },
  {
   "cell_type": "code",
   "execution_count": 48,
   "id": "04f0fc73",
   "metadata": {
    "scrolled": true
   },
   "outputs": [
    {
     "data": {
      "text/html": [
       "<div>\n",
       "<style scoped>\n",
       "    .dataframe tbody tr th:only-of-type {\n",
       "        vertical-align: middle;\n",
       "    }\n",
       "\n",
       "    .dataframe tbody tr th {\n",
       "        vertical-align: top;\n",
       "    }\n",
       "\n",
       "    .dataframe thead th {\n",
       "        text-align: right;\n",
       "    }\n",
       "</style>\n",
       "<table border=\"1\" class=\"dataframe\">\n",
       "  <thead>\n",
       "    <tr style=\"text-align: right;\">\n",
       "      <th></th>\n",
       "    </tr>\n",
       "  </thead>\n",
       "  <tbody>\n",
       "  </tbody>\n",
       "</table>\n",
       "</div>"
      ],
      "text/plain": [
       "Empty DataFrame\n",
       "Columns: []\n",
       "Index: []"
      ]
     },
     "execution_count": 48,
     "metadata": {},
     "output_type": "execute_result"
    }
   ],
   "source": [
    "med_composition"
   ]
  },
  {
   "cell_type": "code",
   "execution_count": 13,
   "id": "ea719663",
   "metadata": {},
   "outputs": [],
   "source": [
    "# here we are going from the chemicals to other medicines that have the same concentration of those chemicals\n",
    "# using the for loop for accessing every medicine for each individual chemical with the same composition as in the original medicine\n",
    "chem_dataframes={}\n",
    "for i in range(len(med_composition)):\n",
    "    cursor=med_db.aql.execute(f'for v,e in 1..1 inbound \"{med_composition.iloc[i,0]}\" graph drug_kg_approach_3_ filter IS_SAME_COLLECTION(\"has_chemical\",e) and e.weight==\"{med_composition.iloc[i,1]}\" return {{\"medicine\":v._id, \"concentration\": e.weight}}')\n",
    "    chem_dataframes[f\"chem{i+1}\"]=pd.DataFrame(cursor)"
   ]
  },
  {
   "cell_type": "code",
   "execution_count": 14,
   "id": "1dd8da2b",
   "metadata": {},
   "outputs": [],
   "source": [
    "# now we will be creting an intersection of sets of different medicines so that we get the prospected alternate medicine\n",
    "intersection = set(chem_dataframes['chem1'].medicine)\n",
    "for chem_df in chem_dataframes.values():\n",
    "    intersection=intersection&set(chem_df.medicine)"
   ]
  },
  {
   "cell_type": "code",
   "execution_count": null,
   "id": "6eef8963",
   "metadata": {
    "scrolled": true
   },
   "outputs": [],
   "source": [
    "intersection"
   ]
  },
  {
   "cell_type": "code",
   "execution_count": null,
   "id": "d9985eab",
   "metadata": {},
   "outputs": [],
   "source": [
    "# now we need to shortlist the medicines such that only those particular salts are contained and not more than that\n",
    "for i in intersection:\n",
    "    cursor=med_db.aql.execute(f'let data = (for v,e in 1..1 outbound \"{i}\" graph drug_kg_approach_3_ filter IS_SAME_COLLECTION(\"has_chemical\",e) return {{\"chemical\":v._id, \"concentration\": e.weight}})return length(data)')\n",
    "    for j in cursor:\n",
    "        print(i,j)\n",
    "        \n",
    "# as in the medicine above there are only two salts so we need to shortlist only the medicines that have two salts not more than that"
   ]
  },
  {
   "cell_type": "code",
   "execution_count": 19,
   "id": "66ca771a",
   "metadata": {},
   "outputs": [],
   "source": [
    "alt_medicine=[]\n",
    "for i in intersection:\n",
    "    cursor=med_db.aql.execute(f'let data = (for v,e in 1..1 outbound \"{i}\" graph drug_kg_approach_3_ filter IS_SAME_COLLECTION(\"has_chemical\",e) return {{\"chemical\":v._id, \"concentration\": e.weight}})return length(data)')\n",
    "    for j in cursor:\n",
    "        if j==len(med_composition):\n",
    "            alt_medicine.append(i)"
   ]
  },
  {
   "cell_type": "code",
   "execution_count": 20,
   "id": "29e1a052",
   "metadata": {},
   "outputs": [
    {
     "data": {
      "text/html": [
       "<div>\n",
       "<style scoped>\n",
       "    .dataframe tbody tr th:only-of-type {\n",
       "        vertical-align: middle;\n",
       "    }\n",
       "\n",
       "    .dataframe tbody tr th {\n",
       "        vertical-align: top;\n",
       "    }\n",
       "\n",
       "    .dataframe thead th {\n",
       "        text-align: right;\n",
       "    }\n",
       "</style>\n",
       "<table border=\"1\" class=\"dataframe\">\n",
       "  <thead>\n",
       "    <tr style=\"text-align: right;\">\n",
       "      <th></th>\n",
       "      <th>name</th>\n",
       "      <th>MRP</th>\n",
       "      <th>Habit Forming</th>\n",
       "    </tr>\n",
       "    <tr>\n",
       "      <th>_id</th>\n",
       "      <th></th>\n",
       "      <th></th>\n",
       "      <th></th>\n",
       "    </tr>\n",
       "  </thead>\n",
       "  <tbody>\n",
       "    <tr>\n",
       "      <th>Medicine/2159195</th>\n",
       "      <td>Aginal 5 Tablet</td>\n",
       "      <td>138</td>\n",
       "      <td>No</td>\n",
       "    </tr>\n",
       "    <tr>\n",
       "      <th>Medicine/2227227</th>\n",
       "      <td>Yewloc 5mg Tablet</td>\n",
       "      <td>384</td>\n",
       "      <td>No</td>\n",
       "    </tr>\n",
       "    <tr>\n",
       "      <th>Medicine/2158657</th>\n",
       "      <td>Amodep 5 Tablet</td>\n",
       "      <td>315</td>\n",
       "      <td>No</td>\n",
       "    </tr>\n",
       "    <tr>\n",
       "      <th>Medicine/2157997</th>\n",
       "      <td>Amlodac 5 Tablet</td>\n",
       "      <td>428</td>\n",
       "      <td>No</td>\n",
       "    </tr>\n",
       "    <tr>\n",
       "      <th>Medicine/2197391</th>\n",
       "      <td>Numlo 5mg Tablet</td>\n",
       "      <td>298</td>\n",
       "      <td>No</td>\n",
       "    </tr>\n",
       "  </tbody>\n",
       "</table>\n",
       "</div>"
      ],
      "text/plain": [
       "                               name  MRP Habit Forming\n",
       "_id                                                   \n",
       "Medicine/2159195    Aginal 5 Tablet  138            No\n",
       "Medicine/2227227  Yewloc 5mg Tablet  384            No\n",
       "Medicine/2158657    Amodep 5 Tablet  315            No\n",
       "Medicine/2157997   Amlodac 5 Tablet  428            No\n",
       "Medicine/2197391   Numlo 5mg Tablet  298            No"
      ]
     },
     "execution_count": 20,
     "metadata": {},
     "output_type": "execute_result"
    }
   ],
   "source": [
    "# getting only alternate medicines that have MRP less than the entered og medicine\n",
    "alt_med_lst=list()\n",
    "for medicine in alt_medicine:\n",
    "    cursor=med_db.aql.execute(f\"return document('{medicine}')\")\n",
    "    for i in cursor:\n",
    "        alt_med_lst.append(i)\n",
    "    \n",
    "alt_med_price_df=pd.DataFrame(alt_med_lst)   \n",
    "alt_med_price_df.drop(columns=['_key','_rev'], inplace=True)\n",
    "alt_med_price_df.set_index('_id', inplace=True)\n",
    "alt_med_price_df.head()"
   ]
  },
  {
   "cell_type": "code",
   "execution_count": 21,
   "id": "82dffec3",
   "metadata": {},
   "outputs": [],
   "source": [
    "filter_price=alt_med_price_df['MRP']<alt_med_price_df.loc[medicine_id,'MRP']\n",
    "alt_med_price_df=alt_med_price_df.loc[filter_price]"
   ]
  },
  {
   "cell_type": "code",
   "execution_count": 22,
   "id": "939c0155",
   "metadata": {},
   "outputs": [
    {
     "data": {
      "text/html": [
       "<div>\n",
       "<style scoped>\n",
       "    .dataframe tbody tr th:only-of-type {\n",
       "        vertical-align: middle;\n",
       "    }\n",
       "\n",
       "    .dataframe tbody tr th {\n",
       "        vertical-align: top;\n",
       "    }\n",
       "\n",
       "    .dataframe thead th {\n",
       "        text-align: right;\n",
       "    }\n",
       "</style>\n",
       "<table border=\"1\" class=\"dataframe\">\n",
       "  <thead>\n",
       "    <tr style=\"text-align: right;\">\n",
       "      <th></th>\n",
       "      <th>name</th>\n",
       "      <th>MRP</th>\n",
       "      <th>Habit Forming</th>\n",
       "    </tr>\n",
       "    <tr>\n",
       "      <th>_id</th>\n",
       "      <th></th>\n",
       "      <th></th>\n",
       "      <th></th>\n",
       "    </tr>\n",
       "  </thead>\n",
       "  <tbody>\n",
       "    <tr>\n",
       "      <th>Medicine/2159195</th>\n",
       "      <td>Aginal 5 Tablet</td>\n",
       "      <td>138</td>\n",
       "      <td>No</td>\n",
       "    </tr>\n",
       "    <tr>\n",
       "      <th>Medicine/2197391</th>\n",
       "      <td>Numlo 5mg Tablet</td>\n",
       "      <td>298</td>\n",
       "      <td>No</td>\n",
       "    </tr>\n",
       "    <tr>\n",
       "      <th>Medicine/2186965</th>\n",
       "      <td>Klide 5mg Tablet</td>\n",
       "      <td>11</td>\n",
       "      <td>No</td>\n",
       "    </tr>\n",
       "    <tr>\n",
       "      <th>Medicine/2158523</th>\n",
       "      <td>Amlogard 5mg Tablet</td>\n",
       "      <td>127</td>\n",
       "      <td>No</td>\n",
       "    </tr>\n",
       "    <tr>\n",
       "      <th>Medicine/2168915</th>\n",
       "      <td>Danavish Amlodipine 5mg Tablet</td>\n",
       "      <td>297</td>\n",
       "      <td>No</td>\n",
       "    </tr>\n",
       "    <tr>\n",
       "      <th>Medicine/2158141</th>\n",
       "      <td>Amtas 5 Tablet</td>\n",
       "      <td>268</td>\n",
       "      <td>No</td>\n",
       "    </tr>\n",
       "    <tr>\n",
       "      <th>Medicine/2190199</th>\n",
       "      <td>Lupidip 5 Tablet</td>\n",
       "      <td>40</td>\n",
       "      <td>No</td>\n",
       "    </tr>\n",
       "    <tr>\n",
       "      <th>Medicine/2165377</th>\n",
       "      <td>Calchek 5 Tablet</td>\n",
       "      <td>263</td>\n",
       "      <td>No</td>\n",
       "    </tr>\n",
       "    <tr>\n",
       "      <th>Medicine/2161047</th>\n",
       "      <td>Biodipin 5mg Tablet</td>\n",
       "      <td>24</td>\n",
       "      <td>No</td>\n",
       "    </tr>\n",
       "    <tr>\n",
       "      <th>Medicine/2157981</th>\n",
       "      <td>Amlovas 5 Tablet</td>\n",
       "      <td>70</td>\n",
       "      <td>No</td>\n",
       "    </tr>\n",
       "    <tr>\n",
       "      <th>Medicine/2208179</th>\n",
       "      <td>Stamlo 5 Tablet</td>\n",
       "      <td>233</td>\n",
       "      <td>No</td>\n",
       "    </tr>\n",
       "    <tr>\n",
       "      <th>Medicine/2171027</th>\n",
       "      <td>Elpress 5mg Tablet</td>\n",
       "      <td>186</td>\n",
       "      <td>No</td>\n",
       "    </tr>\n",
       "  </tbody>\n",
       "</table>\n",
       "</div>"
      ],
      "text/plain": [
       "                                            name  MRP Habit Forming\n",
       "_id                                                                \n",
       "Medicine/2159195                 Aginal 5 Tablet  138            No\n",
       "Medicine/2197391                Numlo 5mg Tablet  298            No\n",
       "Medicine/2186965                Klide 5mg Tablet   11            No\n",
       "Medicine/2158523             Amlogard 5mg Tablet  127            No\n",
       "Medicine/2168915  Danavish Amlodipine 5mg Tablet  297            No\n",
       "Medicine/2158141                  Amtas 5 Tablet  268            No\n",
       "Medicine/2190199                Lupidip 5 Tablet   40            No\n",
       "Medicine/2165377                Calchek 5 Tablet  263            No\n",
       "Medicine/2161047             Biodipin 5mg Tablet   24            No\n",
       "Medicine/2157981                Amlovas 5 Tablet   70            No\n",
       "Medicine/2208179                 Stamlo 5 Tablet  233            No\n",
       "Medicine/2171027              Elpress 5mg Tablet  186            No"
      ]
     },
     "execution_count": 22,
     "metadata": {},
     "output_type": "execute_result"
    }
   ],
   "source": [
    "alt_med_price_df"
   ]
  },
  {
   "cell_type": "code",
   "execution_count": null,
   "id": "ba376cac",
   "metadata": {
    "scrolled": true
   },
   "outputs": [],
   "source": [
    "alt_medicine"
   ]
  },
  {
   "cell_type": "code",
   "execution_count": 24,
   "id": "abeb3418",
   "metadata": {},
   "outputs": [],
   "source": [
    "# now we need to get all the medicine names instead of their corresponding ids\n",
    "alt_med_name=[]\n",
    "for med in alt_medicine:\n",
    "    cursor=med_db.aql.execute(f\"return document('{med}').name\")\n",
    "    for m in cursor:\n",
    "\n",
    "        alt_med_name.append(m)\n",
    "    "
   ]
  },
  {
   "cell_type": "code",
   "execution_count": 25,
   "id": "252591f8",
   "metadata": {
    "scrolled": false
   },
   "outputs": [
    {
     "data": {
      "text/plain": [
       "['Aginal 5 Tablet',\n",
       " 'Yewloc 5mg Tablet',\n",
       " 'Amodep 5 Tablet',\n",
       " 'Amlodac 5 Tablet',\n",
       " 'Numlo 5mg Tablet',\n",
       " 'Amcard 5 Tablet',\n",
       " 'Espin 5 Tablet',\n",
       " 'Wellamo 5 Tablet',\n",
       " 'Klide 5mg Tablet',\n",
       " 'Amlopres 5 Tablet',\n",
       " 'Amlip 5 Tablet',\n",
       " 'Milopin 5mg Tablet',\n",
       " 'Amlopin 5 Tablet',\n",
       " 'Amlogard 5mg Tablet',\n",
       " 'Danavish Amlodipine 5mg Tablet',\n",
       " 'Amtas 5 Tablet',\n",
       " 'Amlo 5mg Tablet',\n",
       " 'Lupidip 5 Tablet',\n",
       " 'Primodil 5 Tablet',\n",
       " 'Calchek 5 Tablet',\n",
       " 'Biodipin 5mg Tablet',\n",
       " 'Amlokind 5 Tablet',\n",
       " 'Amlovas 5 Tablet',\n",
       " 'Stamlo 5 Tablet',\n",
       " 'Elpress 5mg Tablet']"
      ]
     },
     "execution_count": 25,
     "metadata": {},
     "output_type": "execute_result"
    }
   ],
   "source": [
    "alt_med_name \n",
    "# ALTERNATE MEDICINE NAMES"
   ]
  },
  {
   "cell_type": "code",
   "execution_count": 26,
   "id": "3cdf617a",
   "metadata": {},
   "outputs": [],
   "source": [
    "alt_med_name_less_price=alt_med_price_df[['name',\"MRP\"]].sort_values(\"MRP\")"
   ]
  },
  {
   "cell_type": "code",
   "execution_count": 27,
   "id": "b15d17d1",
   "metadata": {},
   "outputs": [
    {
     "data": {
      "text/html": [
       "<div>\n",
       "<style scoped>\n",
       "    .dataframe tbody tr th:only-of-type {\n",
       "        vertical-align: middle;\n",
       "    }\n",
       "\n",
       "    .dataframe tbody tr th {\n",
       "        vertical-align: top;\n",
       "    }\n",
       "\n",
       "    .dataframe thead th {\n",
       "        text-align: right;\n",
       "    }\n",
       "</style>\n",
       "<table border=\"1\" class=\"dataframe\">\n",
       "  <thead>\n",
       "    <tr style=\"text-align: right;\">\n",
       "      <th></th>\n",
       "      <th>name</th>\n",
       "      <th>MRP</th>\n",
       "    </tr>\n",
       "    <tr>\n",
       "      <th>_id</th>\n",
       "      <th></th>\n",
       "      <th></th>\n",
       "    </tr>\n",
       "  </thead>\n",
       "  <tbody>\n",
       "    <tr>\n",
       "      <th>Medicine/2186965</th>\n",
       "      <td>Klide 5mg Tablet</td>\n",
       "      <td>11</td>\n",
       "    </tr>\n",
       "    <tr>\n",
       "      <th>Medicine/2161047</th>\n",
       "      <td>Biodipin 5mg Tablet</td>\n",
       "      <td>24</td>\n",
       "    </tr>\n",
       "    <tr>\n",
       "      <th>Medicine/2190199</th>\n",
       "      <td>Lupidip 5 Tablet</td>\n",
       "      <td>40</td>\n",
       "    </tr>\n",
       "  </tbody>\n",
       "</table>\n",
       "</div>"
      ],
      "text/plain": [
       "                                 name  MRP\n",
       "_id                                       \n",
       "Medicine/2186965     Klide 5mg Tablet   11\n",
       "Medicine/2161047  Biodipin 5mg Tablet   24\n",
       "Medicine/2190199     Lupidip 5 Tablet   40"
      ]
     },
     "execution_count": 27,
     "metadata": {},
     "output_type": "execute_result"
    }
   ],
   "source": [
    "alt_med_name_less_price.iloc[0:3]\n",
    "# ALTENATE MEDICINES WITH LESS PRICE"
   ]
  },
  {
   "cell_type": "markdown",
   "id": "5f638a20",
   "metadata": {},
   "source": [
    "By - Aryan Rathore, Reva Bharara"
   ]
  }
 ],
 "metadata": {
  "kernelspec": {
   "display_name": "Python 3 (ipykernel)",
   "language": "python",
   "name": "python3"
  },
  "language_info": {
   "codemirror_mode": {
    "name": "ipython",
    "version": 3
   },
   "file_extension": ".py",
   "mimetype": "text/x-python",
   "name": "python",
   "nbconvert_exporter": "python",
   "pygments_lexer": "ipython3",
   "version": "3.9.7"
  }
 },
 "nbformat": 4,
 "nbformat_minor": 5
}
